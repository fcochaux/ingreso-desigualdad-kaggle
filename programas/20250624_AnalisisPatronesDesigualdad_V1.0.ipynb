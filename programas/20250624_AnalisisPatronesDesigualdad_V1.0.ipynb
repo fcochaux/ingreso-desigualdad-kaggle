{
 "cells": [
  {
   "cell_type": "markdown",
   "id": "02ebcf67",
   "metadata": {},
   "source": [
    "<h1 style=\"font-family: 'American Typewriter', sans-serif\"> <b>\n",
    "    Análisis de patrones de desigualdad de ingresos\n",
    "</b> </h1>\n",
    "\n",
    "<p style=\"font-family: 'Brush Script MT', cursive; font-size: 24px;\" align=\"right\">\n",
    "Francisco Chaux Guzmán\n",
    "</p>"
   ]
  },
  {
   "cell_type": "markdown",
   "id": "55538bd6",
   "metadata": {},
   "source": [
    "# Preparación del entorno de trabajo"
   ]
  },
  {
   "cell_type": "markdown",
   "id": "84bf3c6c",
   "metadata": {},
   "source": [
    "Se hace la carga de las librerías necesarias."
   ]
  },
  {
   "cell_type": "code",
   "execution_count": 1,
   "id": "e1283339",
   "metadata": {},
   "outputs": [],
   "source": [
    "# procesamiento de datos\n",
    "import numpy as np\n",
    "import pandas as pd\n",
    "\n",
    "# visualización de datos\n",
    "import matplotlib.pyplot as plt\n",
    "import seaborn as sns"
   ]
  },
  {
   "cell_type": "markdown",
   "id": "324b553f",
   "metadata": {},
   "source": [
    "# Preparación de los datos"
   ]
  },
  {
   "cell_type": "markdown",
   "id": "9232afdc",
   "metadata": {},
   "source": [
    "Se realiza la importación de la [información mundial sobre desigualdad de ingresos](https://www.kaggle.com/datasets/mannmann2/world-income-inequality-database)."
   ]
  },
  {
   "cell_type": "code",
   "execution_count": 5,
   "id": "79d707c8",
   "metadata": {},
   "outputs": [
    {
     "data": {
      "text/html": [
       "<div>\n",
       "<style scoped>\n",
       "    .dataframe tbody tr th:only-of-type {\n",
       "        vertical-align: middle;\n",
       "    }\n",
       "\n",
       "    .dataframe tbody tr th {\n",
       "        vertical-align: top;\n",
       "    }\n",
       "\n",
       "    .dataframe thead th {\n",
       "        text-align: right;\n",
       "    }\n",
       "</style>\n",
       "<table border=\"1\" class=\"dataframe\">\n",
       "  <thead>\n",
       "    <tr style=\"text-align: right;\">\n",
       "      <th></th>\n",
       "      <th>Unnamed: 0</th>\n",
       "      <th>id</th>\n",
       "      <th>country</th>\n",
       "      <th>c3</th>\n",
       "      <th>c2</th>\n",
       "      <th>year</th>\n",
       "      <th>gini_reported</th>\n",
       "      <th>palma</th>\n",
       "      <th>ratio_top20bottom20</th>\n",
       "      <th>bottom40</th>\n",
       "      <th>...</th>\n",
       "      <th>gdp_ppp_pc_usd2011</th>\n",
       "      <th>population</th>\n",
       "      <th>revision</th>\n",
       "      <th>quality</th>\n",
       "      <th>quality_score</th>\n",
       "      <th>source</th>\n",
       "      <th>source_detailed</th>\n",
       "      <th>source_comments</th>\n",
       "      <th>survey</th>\n",
       "      <th>link</th>\n",
       "    </tr>\n",
       "  </thead>\n",
       "  <tbody>\n",
       "    <tr>\n",
       "      <th>0</th>\n",
       "      <td>0</td>\n",
       "      <td>1</td>\n",
       "      <td>Afghanistan</td>\n",
       "      <td>AFG</td>\n",
       "      <td>AF</td>\n",
       "      <td>2008</td>\n",
       "      <td>29.00</td>\n",
       "      <td>NaN</td>\n",
       "      <td>4.33</td>\n",
       "      <td>22.00</td>\n",
       "      <td>...</td>\n",
       "      <td>1268.0</td>\n",
       "      <td>27722282.0</td>\n",
       "      <td>New 2019</td>\n",
       "      <td>High</td>\n",
       "      <td>12</td>\n",
       "      <td>National statistical authority</td>\n",
       "      <td>European Union and the Central Statistics Orga...</td>\n",
       "      <td>NaN</td>\n",
       "      <td>Living Conditions Survey (LCS)</td>\n",
       "      <td>https://cso-of-afghanistan.shinyapps.io/ALCS_D...</td>\n",
       "    </tr>\n",
       "    <tr>\n",
       "      <th>1</th>\n",
       "      <td>1</td>\n",
       "      <td>2</td>\n",
       "      <td>Afghanistan</td>\n",
       "      <td>AFG</td>\n",
       "      <td>AF</td>\n",
       "      <td>2012</td>\n",
       "      <td>33.00</td>\n",
       "      <td>NaN</td>\n",
       "      <td>4.11</td>\n",
       "      <td>23.00</td>\n",
       "      <td>...</td>\n",
       "      <td>1773.0</td>\n",
       "      <td>31161378.0</td>\n",
       "      <td>New 2019</td>\n",
       "      <td>High</td>\n",
       "      <td>12</td>\n",
       "      <td>National statistical authority</td>\n",
       "      <td>European Union and the Central Statistics Orga...</td>\n",
       "      <td>NaN</td>\n",
       "      <td>Living Conditions Survey (LCS)</td>\n",
       "      <td>https://cso-of-afghanistan.shinyapps.io/ALCS_D...</td>\n",
       "    </tr>\n",
       "    <tr>\n",
       "      <th>2</th>\n",
       "      <td>2</td>\n",
       "      <td>3</td>\n",
       "      <td>Afghanistan</td>\n",
       "      <td>AFG</td>\n",
       "      <td>AF</td>\n",
       "      <td>2017</td>\n",
       "      <td>31.00</td>\n",
       "      <td>NaN</td>\n",
       "      <td>4.44</td>\n",
       "      <td>22.00</td>\n",
       "      <td>...</td>\n",
       "      <td>1758.0</td>\n",
       "      <td>36296108.0</td>\n",
       "      <td>New 2019</td>\n",
       "      <td>High</td>\n",
       "      <td>12</td>\n",
       "      <td>National statistical authority</td>\n",
       "      <td>European Union and the Central Statistics Orga...</td>\n",
       "      <td>NaN</td>\n",
       "      <td>Living Conditions Survey (LCS)</td>\n",
       "      <td>https://eeas.europa.eu/regions/asia/44072/resu...</td>\n",
       "    </tr>\n",
       "    <tr>\n",
       "      <th>3</th>\n",
       "      <td>3</td>\n",
       "      <td>4</td>\n",
       "      <td>Albania</td>\n",
       "      <td>ALB</td>\n",
       "      <td>AL</td>\n",
       "      <td>1996</td>\n",
       "      <td>27.01</td>\n",
       "      <td>0.93</td>\n",
       "      <td>3.95</td>\n",
       "      <td>22.85</td>\n",
       "      <td>...</td>\n",
       "      <td>4635.0</td>\n",
       "      <td>3098699.0</td>\n",
       "      <td>New 2019</td>\n",
       "      <td>Average</td>\n",
       "      <td>13</td>\n",
       "      <td>World Bank</td>\n",
       "      <td>World Bank 2019</td>\n",
       "      <td>PovcalNet</td>\n",
       "      <td>NaN</td>\n",
       "      <td>http://iresearch.worldbank.org/PovcalNet/povOn...</td>\n",
       "    </tr>\n",
       "    <tr>\n",
       "      <th>4</th>\n",
       "      <td>4</td>\n",
       "      <td>5</td>\n",
       "      <td>Albania</td>\n",
       "      <td>ALB</td>\n",
       "      <td>AL</td>\n",
       "      <td>2002</td>\n",
       "      <td>31.74</td>\n",
       "      <td>1.22</td>\n",
       "      <td>4.83</td>\n",
       "      <td>20.93</td>\n",
       "      <td>...</td>\n",
       "      <td>6088.0</td>\n",
       "      <td>3126183.0</td>\n",
       "      <td>New 2019</td>\n",
       "      <td>Average</td>\n",
       "      <td>13</td>\n",
       "      <td>World Bank</td>\n",
       "      <td>World Bank 2019</td>\n",
       "      <td>PovcalNet</td>\n",
       "      <td>NaN</td>\n",
       "      <td>http://iresearch.worldbank.org/PovcalNet/povOn...</td>\n",
       "    </tr>\n",
       "  </tbody>\n",
       "</table>\n",
       "<p>5 rows × 60 columns</p>\n",
       "</div>"
      ],
      "text/plain": [
       "   Unnamed: 0  id      country   c3  c2  year  gini_reported  palma  \\\n",
       "0           0   1  Afghanistan  AFG  AF  2008          29.00    NaN   \n",
       "1           1   2  Afghanistan  AFG  AF  2012          33.00    NaN   \n",
       "2           2   3  Afghanistan  AFG  AF  2017          31.00    NaN   \n",
       "3           3   4      Albania  ALB  AL  1996          27.01   0.93   \n",
       "4           4   5      Albania  ALB  AL  2002          31.74   1.22   \n",
       "\n",
       "   ratio_top20bottom20  bottom40  ...  gdp_ppp_pc_usd2011  population  \\\n",
       "0                 4.33     22.00  ...              1268.0  27722282.0   \n",
       "1                 4.11     23.00  ...              1773.0  31161378.0   \n",
       "2                 4.44     22.00  ...              1758.0  36296108.0   \n",
       "3                 3.95     22.85  ...              4635.0   3098699.0   \n",
       "4                 4.83     20.93  ...              6088.0   3126183.0   \n",
       "\n",
       "   revision  quality  quality_score                          source  \\\n",
       "0  New 2019     High             12  National statistical authority   \n",
       "1  New 2019     High             12  National statistical authority   \n",
       "2  New 2019     High             12  National statistical authority   \n",
       "3  New 2019  Average             13                      World Bank   \n",
       "4  New 2019  Average             13                      World Bank   \n",
       "\n",
       "                                     source_detailed  source_comments  \\\n",
       "0  European Union and the Central Statistics Orga...              NaN   \n",
       "1  European Union and the Central Statistics Orga...              NaN   \n",
       "2  European Union and the Central Statistics Orga...              NaN   \n",
       "3                                    World Bank 2019        PovcalNet   \n",
       "4                                    World Bank 2019        PovcalNet   \n",
       "\n",
       "                           survey  \\\n",
       "0  Living Conditions Survey (LCS)   \n",
       "1  Living Conditions Survey (LCS)   \n",
       "2  Living Conditions Survey (LCS)   \n",
       "3                             NaN   \n",
       "4                             NaN   \n",
       "\n",
       "                                                link  \n",
       "0  https://cso-of-afghanistan.shinyapps.io/ALCS_D...  \n",
       "1  https://cso-of-afghanistan.shinyapps.io/ALCS_D...  \n",
       "2  https://eeas.europa.eu/regions/asia/44072/resu...  \n",
       "3  http://iresearch.worldbank.org/PovcalNet/povOn...  \n",
       "4  http://iresearch.worldbank.org/PovcalNet/povOn...  \n",
       "\n",
       "[5 rows x 60 columns]"
      ]
     },
     "execution_count": 5,
     "metadata": {},
     "output_type": "execute_result"
    }
   ],
   "source": [
    "# lectura de los datos\n",
    "datos_desigualdad = pd.read_csv('../datos/WIID_06MAY2020.csv')\n",
    "# revisión de las primeras observaciones\n",
    "datos_desigualdad.head()"
   ]
  },
  {
   "cell_type": "markdown",
   "id": "8027a90b",
   "metadata": {},
   "source": [
    "También se revisa la estructura general de la base. Debido a que son muchas variables, por el momento se excluye su listado (con `verbose=False`) y, en su lugar, se seleccionan las variables que se van a utilizar (para esto se usa el [diccionario](https://www.wider.unu.edu/sites/default/files/WIID/PDF/WIID-User_Guide_06MAY2020.pdf)) y se revisan con mayor profundidad."
   ]
  },
  {
   "cell_type": "code",
   "execution_count": 25,
   "id": "74b30b4d",
   "metadata": {},
   "outputs": [
    {
     "name": "stdout",
     "output_type": "stream",
     "text": [
      "<class 'pandas.core.frame.DataFrame'>\n",
      "RangeIndex: 11826 entries, 0 to 11825\n",
      "Columns: 60 entries, Unnamed: 0 to link\n",
      "dtypes: float64(28), int64(4), object(28)\n",
      "memory usage: 5.4+ MB\n"
     ]
    }
   ],
   "source": [
    "datos_desigualdad.info(verbose=False)"
   ]
  },
  {
   "cell_type": "markdown",
   "id": "d0b9dca1",
   "metadata": {},
   "source": [
    "Se tienen 11,826 observaciones y 60 variables, de las cuales 28 son numéricas continuas, 4 son númericas enteras y 28 son de tipo texto."
   ]
  },
  {
   "cell_type": "markdown",
   "id": "5ad78e1b",
   "metadata": {},
   "source": [
    "Con base en el diccionario, se seleccionan las siguientes variables para su análisis:\n",
    "\n",
    "- `id`. Identificador.\n",
    "- `country`. País o área.\n",
    "-  `year`. Año. En este caso, cuando una encuesta se prolonga durante más de un año, se considera\n",
    "el año en que finaliza.\n",
    "- `gini_reported`. El coeficiente de Gini tal y como es reportado por la fuente.\n",
    "- `palma`. La razón de Palma.\n",
    "- `incomegroup`. Clasificación del país según su clasificación de ingreso en el Banco Mundial.\n",
    "- `population`. Población del país, de acuerdo a proyecciones de la ONU."
   ]
  },
  {
   "cell_type": "code",
   "execution_count": null,
   "id": "1887410c",
   "metadata": {},
   "outputs": [],
   "source": [
    "datos_desigualdad = datos_desigualdad[[\n",
    "    'id', 'country', 'year', 'gini_reported', 'palma', 'incomegroup', 'population'\n",
    "    ]]"
   ]
  },
  {
   "cell_type": "markdown",
   "id": "68c6f9e8",
   "metadata": {},
   "source": [
    "Hecha la selección, se vuelve a revisar la estructura."
   ]
  },
  {
   "cell_type": "code",
   "execution_count": 27,
   "id": "81d9c81a",
   "metadata": {},
   "outputs": [
    {
     "name": "stdout",
     "output_type": "stream",
     "text": [
      "<class 'pandas.core.frame.DataFrame'>\n",
      "RangeIndex: 11826 entries, 0 to 11825\n",
      "Data columns (total 7 columns):\n",
      " #   Column         Non-Null Count  Dtype  \n",
      "---  ------         --------------  -----  \n",
      " 0   id             11826 non-null  int64  \n",
      " 1   country        11826 non-null  object \n",
      " 2   year           11826 non-null  int64  \n",
      " 3   gini_reported  11747 non-null  float64\n",
      " 4   palma          6714 non-null   float64\n",
      " 5   incomegroup    11826 non-null  object \n",
      " 6   population     11765 non-null  float64\n",
      "dtypes: float64(3), int64(2), object(2)\n",
      "memory usage: 646.9+ KB\n"
     ]
    }
   ],
   "source": [
    "datos_desigualdad.info()"
   ]
  },
  {
   "cell_type": "markdown",
   "id": "f581e92a",
   "metadata": {},
   "source": [
    "Lo primero que se nota es la presencia de varies faltantes en el coeficiente de Gini, la razón de Palma y la población.\n",
    "\n",
    "Debido a que los análisis se sentrarán en el coeficiente de Gini, se eliminan los faltantes en esa variable y se revisa cómo queda."
   ]
  },
  {
   "cell_type": "code",
   "execution_count": 33,
   "id": "73cf0aed",
   "metadata": {},
   "outputs": [
    {
     "name": "stdout",
     "output_type": "stream",
     "text": [
      "<class 'pandas.core.frame.DataFrame'>\n",
      "Index: 11747 entries, 0 to 11825\n",
      "Data columns (total 7 columns):\n",
      " #   Column         Non-Null Count  Dtype  \n",
      "---  ------         --------------  -----  \n",
      " 0   id             11747 non-null  int64  \n",
      " 1   country        11747 non-null  object \n",
      " 2   year           11747 non-null  int64  \n",
      " 3   gini_reported  11747 non-null  float64\n",
      " 4   palma          6676 non-null   float64\n",
      " 5   incomegroup    11747 non-null  object \n",
      " 6   population     11686 non-null  float64\n",
      "dtypes: float64(3), int64(2), object(2)\n",
      "memory usage: 734.2+ KB\n"
     ]
    }
   ],
   "source": [
    "datos_desigualdad = datos_desigualdad.dropna(subset=['gini_reported'])\n",
    "datos_desigualdad.info()"
   ]
  },
  {
   "cell_type": "markdown",
   "id": "32f5e43c",
   "metadata": {},
   "source": [
    "Ya no hay faltantes en las variables. Se dejan los otros faltantes para no perder tanta información."
   ]
  },
  {
   "cell_type": "markdown",
   "id": "e14fb987",
   "metadata": {},
   "source": [
    "Ahora, se revisa la presencia de observaciones duplicadas."
   ]
  },
  {
   "cell_type": "code",
   "execution_count": 31,
   "id": "6ea96252",
   "metadata": {},
   "outputs": [
    {
     "name": "stdout",
     "output_type": "stream",
     "text": [
      "No hay observaciones duplicadas\n"
     ]
    }
   ],
   "source": [
    "if datos_desigualdad.duplicated().any()==False:\n",
    "    print(\"No hay observaciones duplicadas\")\n",
    "else:\n",
    "    print(\"Hay observaciones duplicadas\")"
   ]
  },
  {
   "cell_type": "markdown",
   "id": "501120cd",
   "metadata": {},
   "source": [
    "Por otra parte, se revisa el comportamiento de las variables numéricas."
   ]
  },
  {
   "cell_type": "code",
   "execution_count": 43,
   "id": "29f30d57",
   "metadata": {},
   "outputs": [
    {
     "data": {
      "text/html": [
       "<style type=\"text/css\">\n",
       "</style>\n",
       "<table id=\"T_b5060\">\n",
       "  <thead>\n",
       "    <tr>\n",
       "      <th class=\"blank level0\" >&nbsp;</th>\n",
       "      <th id=\"T_b5060_level0_col0\" class=\"col_heading level0 col0\" >id</th>\n",
       "      <th id=\"T_b5060_level0_col1\" class=\"col_heading level0 col1\" >year</th>\n",
       "      <th id=\"T_b5060_level0_col2\" class=\"col_heading level0 col2\" >gini_reported</th>\n",
       "      <th id=\"T_b5060_level0_col3\" class=\"col_heading level0 col3\" >palma</th>\n",
       "      <th id=\"T_b5060_level0_col4\" class=\"col_heading level0 col4\" >population</th>\n",
       "    </tr>\n",
       "  </thead>\n",
       "  <tbody>\n",
       "    <tr>\n",
       "      <th id=\"T_b5060_level0_row0\" class=\"row_heading level0 row0\" >count</th>\n",
       "      <td id=\"T_b5060_row0_col0\" class=\"data row0 col0\" >11,747.00</td>\n",
       "      <td id=\"T_b5060_row0_col1\" class=\"data row0 col1\" >11,747.00</td>\n",
       "      <td id=\"T_b5060_row0_col2\" class=\"data row0 col2\" >11,747.00</td>\n",
       "      <td id=\"T_b5060_row0_col3\" class=\"data row0 col3\" >6,676.00</td>\n",
       "      <td id=\"T_b5060_row0_col4\" class=\"data row0 col4\" >11,686.00</td>\n",
       "    </tr>\n",
       "    <tr>\n",
       "      <th id=\"T_b5060_level0_row1\" class=\"row_heading level0 row1\" >mean</th>\n",
       "      <td id=\"T_b5060_row1_col0\" class=\"data row1 col0\" >5,914.49</td>\n",
       "      <td id=\"T_b5060_row1_col1\" class=\"data row1 col1\" >1,996.01</td>\n",
       "      <td id=\"T_b5060_row1_col2\" class=\"data row1 col2\" >38.23</td>\n",
       "      <td id=\"T_b5060_row1_col3\" class=\"data row1 col3\" >2.18</td>\n",
       "      <td id=\"T_b5060_row1_col4\" class=\"data row1 col4\" >78,849,194.14</td>\n",
       "    </tr>\n",
       "    <tr>\n",
       "      <th id=\"T_b5060_level0_row2\" class=\"row_heading level0 row2\" >std</th>\n",
       "      <td id=\"T_b5060_row2_col0\" class=\"data row2 col0\" >3,407.60</td>\n",
       "      <td id=\"T_b5060_row2_col1\" class=\"data row2 col1\" >15.85</td>\n",
       "      <td id=\"T_b5060_row2_col2\" class=\"data row2 col2\" >10.20</td>\n",
       "      <td id=\"T_b5060_row2_col3\" class=\"data row2 col3\" >1.65</td>\n",
       "      <td id=\"T_b5060_row2_col4\" class=\"data row2 col4\" >211,861,346.94</td>\n",
       "    </tr>\n",
       "    <tr>\n",
       "      <th id=\"T_b5060_level0_row3\" class=\"row_heading level0 row3\" >min</th>\n",
       "      <td id=\"T_b5060_row3_col0\" class=\"data row3 col0\" >1.00</td>\n",
       "      <td id=\"T_b5060_row3_col1\" class=\"data row3 col1\" >1,867.00</td>\n",
       "      <td id=\"T_b5060_row3_col2\" class=\"data row3 col2\" >12.10</td>\n",
       "      <td id=\"T_b5060_row3_col3\" class=\"data row3 col3\" >0.55</td>\n",
       "      <td id=\"T_b5060_row3_col4\" class=\"data row3 col4\" >10,521.00</td>\n",
       "    </tr>\n",
       "    <tr>\n",
       "      <th id=\"T_b5060_level0_row4\" class=\"row_heading level0 row4\" >25%</th>\n",
       "      <td id=\"T_b5060_row4_col0\" class=\"data row4 col0\" >2,970.50</td>\n",
       "      <td id=\"T_b5060_row4_col1\" class=\"data row4 col1\" >1,988.00</td>\n",
       "      <td id=\"T_b5060_row4_col2\" class=\"data row4 col2\" >30.30</td>\n",
       "      <td id=\"T_b5060_row4_col3\" class=\"data row4 col3\" >1.15</td>\n",
       "      <td id=\"T_b5060_row4_col4\" class=\"data row4 col4\" >5,244,036.00</td>\n",
       "    </tr>\n",
       "    <tr>\n",
       "      <th id=\"T_b5060_level0_row5\" class=\"row_heading level0 row5\" >50%</th>\n",
       "      <td id=\"T_b5060_row5_col0\" class=\"data row5 col0\" >5,913.00</td>\n",
       "      <td id=\"T_b5060_row5_col1\" class=\"data row5 col1\" >1,999.00</td>\n",
       "      <td id=\"T_b5060_row5_col2\" class=\"data row5 col2\" >36.48</td>\n",
       "      <td id=\"T_b5060_row5_col3\" class=\"data row5 col3\" >1.61</td>\n",
       "      <td id=\"T_b5060_row5_col4\" class=\"data row5 col4\" >15,262,754.00</td>\n",
       "    </tr>\n",
       "    <tr>\n",
       "      <th id=\"T_b5060_level0_row6\" class=\"row_heading level0 row6\" >75%</th>\n",
       "      <td id=\"T_b5060_row6_col0\" class=\"data row6 col0\" >8,862.50</td>\n",
       "      <td id=\"T_b5060_row6_col1\" class=\"data row6 col1\" >2,009.00</td>\n",
       "      <td id=\"T_b5060_row6_col2\" class=\"data row6 col2\" >46.00</td>\n",
       "      <td id=\"T_b5060_row6_col3\" class=\"data row6 col3\" >2.81</td>\n",
       "      <td id=\"T_b5060_row6_col4\" class=\"data row6 col4\" >56,542,434.00</td>\n",
       "    </tr>\n",
       "    <tr>\n",
       "      <th id=\"T_b5060_level0_row7\" class=\"row_heading level0 row7\" >max</th>\n",
       "      <td id=\"T_b5060_row7_col0\" class=\"data row7 col0\" >11,826.00</td>\n",
       "      <td id=\"T_b5060_row7_col1\" class=\"data row7 col1\" >2,018.00</td>\n",
       "      <td id=\"T_b5060_row7_col2\" class=\"data row7 col2\" >78.60</td>\n",
       "      <td id=\"T_b5060_row7_col3\" class=\"data row7 col3\" >39.81</td>\n",
       "      <td id=\"T_b5060_row7_col4\" class=\"data row7 col4\" >1,421,021,696.00</td>\n",
       "    </tr>\n",
       "  </tbody>\n",
       "</table>\n"
      ],
      "text/plain": [
       "<pandas.io.formats.style.Styler at 0x1761cf380>"
      ]
     },
     "execution_count": 43,
     "metadata": {},
     "output_type": "execute_result"
    }
   ],
   "source": [
    "datos_desigualdad.describe().style.format(\"{:,.2f}\")"
   ]
  },
  {
   "cell_type": "markdown",
   "id": "f7ffd478",
   "metadata": {},
   "source": [
    "Es de notar que variables como el Gini no aparecen en el formato correcto, ya que debería ser menor a cero y estar a tres digitos. Se corrige con la siguiente línea."
   ]
  },
  {
   "cell_type": "code",
   "execution_count": 53,
   "id": "7101df53",
   "metadata": {},
   "outputs": [
    {
     "data": {
      "text/plain": [
       "count    11747.000000\n",
       "mean         0.382326\n",
       "std          0.102028\n",
       "min          0.121000\n",
       "25%          0.303000\n",
       "50%          0.364800\n",
       "75%          0.460000\n",
       "max          0.786000\n",
       "Name: gini_reported, dtype: float64"
      ]
     },
     "execution_count": 53,
     "metadata": {},
     "output_type": "execute_result"
    }
   ],
   "source": [
    "datos_desigualdad.loc['gini_reported'] = datos_desigualdad['gini_reported'] / 100\n",
    "datos_desigualdad['gini_reported'].describe()"
   ]
  },
  {
   "cell_type": "markdown",
   "id": "e6224f81",
   "metadata": {},
   "source": [
    "De esta forma, se proceden a los análisis siguientes."
   ]
  },
  {
   "cell_type": "markdown",
   "id": "7e2fd810",
   "metadata": {},
   "source": [
    "# Visualizaciones"
   ]
  },
  {
   "cell_type": "markdown",
   "id": "c9144dc9",
   "metadata": {},
   "source": [
    "## Distribución de los coeficientes de Gini"
   ]
  },
  {
   "cell_type": "code",
   "execution_count": 51,
   "id": "9b823c00",
   "metadata": {},
   "outputs": [
    {
     "data": {
      "image/png": "[encoded data removed]",
      "text/plain": [
       "<Figure size 800x600 with 1 Axes>"
      ]
     },
     "metadata": {},
     "output_type": "display_data"
    }
   ],
   "source": [
    "# creación del espacio para el gráfico\n",
    "\n",
    "sns.set(style=\"whitegrid\")\n",
    "plt.figure(figsize=(8, 6))\n",
    "\n",
    "# generación del gráfico\n",
    "\n",
    "sns.violinplot(data=datos_desigualdad, x = 'incomegroup', y='gini_reported')\n",
    "\n",
    "# títulos y etiquetas\n",
    "\n",
    "plt.title('Distribución del coeficiente de Gini')\n",
    "plt.xlabel('')\n",
    "plt.ylabel('Coeficiente')\n",
    "\n",
    "# impresión del gráfico\n",
    "plt.show()"
   ]
  },
  {
   "cell_type": "code",
   "execution_count": null,
   "id": "58d867f2",
   "metadata": {},
   "outputs": [],
   "source": []
  }
 ],
 "metadata": {
  "kernelspec": {
   "display_name": "base",
   "language": "python",
   "name": "python3"
  },
  "language_info": {
   "codemirror_mode": {
    "name": "ipython",
    "version": 3
   },
   "file_extension": ".py",
   "mimetype": "text/x-python",
   "name": "python",
   "nbconvert_exporter": "python",
   "pygments_lexer": "ipython3",
   "version": "3.12.7"
  }
 },
 "nbformat": 4,
 "nbformat_minor": 5
}
