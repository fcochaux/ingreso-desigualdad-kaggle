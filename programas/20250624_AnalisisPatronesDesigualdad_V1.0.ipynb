{
 "cells": [
  {
   "cell_type": "markdown",
   "id": "02ebcf67",
   "metadata": {},
   "source": [
    "<h1 style=\"font-family: 'American Typewriter', sans-serif\"> <b>\n",
    "    Análisis de patrones de desigualdad de ingresos\n",
    "</b> </h1>\n",
    "\n",
    "<p style=\"font-family: 'Brush Script MT', cursive; font-size: 24px;\" align=\"right\">\n",
    "Francisco Chaux Guzmán\n",
    "</p>"
   ]
  }
 ],
 "metadata": {
  "language_info": {
   "name": "python"
  }
 },
 "nbformat": 4,
 "nbformat_minor": 5
}
